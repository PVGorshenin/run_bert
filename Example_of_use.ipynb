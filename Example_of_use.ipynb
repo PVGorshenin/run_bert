{
 "cells": [
  {
   "cell_type": "code",
   "execution_count": 3,
   "metadata": {
    "ExecuteTime": {
     "end_time": "2020-07-14T12:28:44.499448Z",
     "start_time": "2020-07-14T12:28:44.494735Z"
    }
   },
   "outputs": [],
   "source": [
    "import sys\n",
    "sys.path.append('/home/saiko/ML/mipt/premoderation_txt/toxic_bert/lib')"
   ]
  },
  {
   "cell_type": "code",
   "execution_count": 4,
   "metadata": {
    "ExecuteTime": {
     "end_time": "2020-07-14T12:28:45.907111Z",
     "start_time": "2020-07-14T12:28:45.397988Z"
    }
   },
   "outputs": [
    {
     "data": {
      "text/html": [
       "<style>.container { width:100% !important; }</style>"
      ],
      "text/plain": [
       "<IPython.core.display.HTML object>"
      ]
     },
     "metadata": {},
     "output_type": "display_data"
    }
   ],
   "source": [
    "import numpy as np\n",
    "import pandas as pd\n",
    "import re\n",
    "import torch \n",
    "\n",
    "from bert.bert_dataset import BertDatset\n",
    "from bert.trainer import BertPredictor\n",
    "from bert.bert_model import MyBertModel\n",
    "from bert.optim import configure_optimizers\n",
    "from bert.loader import get_dataloader\n",
    "from sklearn.metrics import accuracy_score, roc_auc_score\n",
    "from sklearn.model_selection import train_test_split\n",
    "from torch.nn import BCEWithLogitsLoss\n",
    "from torch.optim import Adam\n",
    "from torch.utils.data import DataLoader\n",
    "from transformers import BertModel, BertTokenizer\n",
    "from IPython.core.display import display, HTML\n",
    "display(HTML(\"<style>.container { width:100% !important; }</style>\"))\n",
    "\n",
    "pd.options.display.max_columns=500\n",
    "pd.options.display.max_rows=500\n",
    "pd.options.display.max_colwidth=500\n",
    "np.set_printoptions(precision=3)\n"
   ]
  },
  {
   "cell_type": "code",
   "execution_count": 5,
   "metadata": {
    "ExecuteTime": {
     "end_time": "2020-07-14T12:28:48.014026Z",
     "start_time": "2020-07-14T12:28:47.780969Z"
    },
    "code_folding": [
     1
    ]
   },
   "outputs": [],
   "source": [
    "DEVICE = torch.device('cuda')\n",
    "# ispras_df = pd.read_csv('./data/input/ispras/live_journal.csv')\n",
    "concat_df = pd.read_pickle('../../data/intermediate/concat_df_new_labels.pickle')\n",
    "concat_df = concat_df[~concat_df['text'].isnull()]"
   ]
  },
  {
   "cell_type": "code",
   "execution_count": 4,
   "metadata": {
    "ExecuteTime": {
     "end_time": "2020-07-06T10:53:46.662797Z",
     "start_time": "2020-07-06T10:53:39.477644Z"
    }
   },
   "outputs": [],
   "source": [
    "model = BertModel.from_pretrained('DeepPavlov/rubert-base-cased').to(DEVICE)\n",
    "tokenizer = BertTokenizer.from_pretrained('DeepPavlov/rubert-base-cased')"
   ]
  },
  {
   "cell_type": "markdown",
   "metadata": {},
   "source": [
    "### Model"
   ]
  },
  {
   "cell_type": "code",
   "execution_count": 6,
   "metadata": {
    "ExecuteTime": {
     "end_time": "2020-07-06T10:53:51.048134Z",
     "start_time": "2020-07-06T10:53:51.039747Z"
    }
   },
   "outputs": [],
   "source": [
    "model_params = {\n",
    "    'lr': 1e-5\n",
    "}\n",
    "\n",
    "kfold_params = {\n",
    "    'split_rand_state': 33,\n",
    "    'split_ratio': .35\n",
    "}"
   ]
  },
  {
   "cell_type": "code",
   "execution_count": 7,
   "metadata": {
    "ExecuteTime": {
     "end_time": "2020-07-06T10:53:53.026311Z",
     "start_time": "2020-07-06T10:53:52.985637Z"
    }
   },
   "outputs": [
    {
     "name": "stdout",
     "output_type": "stream",
     "text": [
      "train --> 22178, val --> 41188\n",
      "labels: train --> 7168.0, val --> 13369.0\n"
     ]
    }
   ],
   "source": [
    "criterion = BCEWithLogitsLoss().cuda()\n",
    "\n",
    "\n",
    "bert_model = MyBertModel(model,\n",
    "                         n_classes=1).to(DEVICE)\n",
    "\n",
    "\n",
    "train_df, val_df = train_test_split(concat_df,\n",
    "                                    test_size=(1-kfold_params['split_ratio']), \n",
    "                                    random_state=kfold_params['split_rand_state'])\n",
    "\n",
    "train_loader = get_dataloader(train_df,\n",
    "                              tokenizer,\n",
    "                              label_column='toxic', \n",
    "                              batch_size=4)\n",
    "\n",
    "val_loader = get_dataloader(val_df,\n",
    "                            tokenizer, \n",
    "                            label_column='toxic',\n",
    "                            batch_size=4)\n",
    "\n",
    "    \n",
    "optimizer = configure_optimizers(bert_model, model_params['lr'])\n",
    "\n",
    "print(f'train --> {train_df.shape[0]}, val --> {val_df.shape[0]}')\n",
    "print(f\"labels: train --> {train_df['toxic'].sum()}, val --> {val_df['toxic'].sum()}\")"
   ]
  },
  {
   "cell_type": "code",
   "execution_count": 8,
   "metadata": {
    "ExecuteTime": {
     "end_time": "2020-07-06T12:14:26.251409Z",
     "start_time": "2020-07-06T10:53:58.536666Z"
    }
   },
   "outputs": [
    {
     "name": "stderr",
     "output_type": "stream",
     "text": [
      "\r",
      "  0%|          | 0/5545 [00:00<?, ?it/s]"
     ]
    },
    {
     "name": "stdout",
     "output_type": "stream",
     "text": [
      "../../data/result/bert_output/07-06-13\n"
     ]
    },
    {
     "name": "stderr",
     "output_type": "stream",
     "text": [
      "[1 / 2] Train: Loss = 0.31987: 100%|██████████| 5545/5545 [26:06<00:00,  3.54it/s]\n",
      "100%|██████████| 10297/10297 [14:00<00:00, 12.25it/s]\n",
      "  0%|          | 0/5545 [00:00<?, ?it/s]"
     ]
    },
    {
     "name": "stdout",
     "output_type": "stream",
     "text": [
      "val_metric_score --> 0.9612731994970716\n"
     ]
    },
    {
     "name": "stderr",
     "output_type": "stream",
     "text": [
      "[2 / 2] Train: Loss = 0.17915: 100%|██████████| 5545/5545 [26:10<00:00,  3.53it/s]\n",
      "100%|██████████| 10297/10297 [14:09<00:00, 12.12it/s]"
     ]
    },
    {
     "name": "stdout",
     "output_type": "stream",
     "text": [
      "val_metric_score --> 0.9607309277080982\n"
     ]
    },
    {
     "name": "stderr",
     "output_type": "stream",
     "text": [
      "\n"
     ]
    }
   ],
   "source": [
    "description = 'toxic + insult new labels'\n",
    "trainer = BertPredictor(model=bert_model,\n",
    "                       train_loader=train_loader,\n",
    "                       criterion=criterion,\n",
    "                       optimizer=optimizer,\n",
    "                       split_rand_state=kfold_params['split_rand_state'],\n",
    "                        metric=roc_auc_score,\n",
    "                        description=description,\n",
    "                       val_loader=val_loader,\n",
    "                       epochs_count=2,\n",
    "                       result_dir='../../data/result/bert_output/',\n",
    "                       num_labels=1)\n",
    "\n",
    "\n",
    "trainer.fit()"
   ]
  },
  {
   "cell_type": "code",
   "execution_count": null,
   "metadata": {},
   "outputs": [],
   "source": []
  },
  {
   "cell_type": "code",
   "execution_count": null,
   "metadata": {},
   "outputs": [],
   "source": []
  }
 ],
 "metadata": {
  "kernelspec": {
   "display_name": "Python 3",
   "language": "python",
   "name": "python3"
  },
  "language_info": {
   "codemirror_mode": {
    "name": "ipython",
    "version": 3
   },
   "file_extension": ".py",
   "mimetype": "text/x-python",
   "name": "python",
   "nbconvert_exporter": "python",
   "pygments_lexer": "ipython3",
   "version": "3.7.6"
  },
  "toc": {
   "base_numbering": 1,
   "nav_menu": {},
   "number_sections": true,
   "sideBar": true,
   "skip_h1_title": false,
   "title_cell": "Table of Contents",
   "title_sidebar": "Contents",
   "toc_cell": false,
   "toc_position": {},
   "toc_section_display": true,
   "toc_window_display": false
  }
 },
 "nbformat": 4,
 "nbformat_minor": 2
}
